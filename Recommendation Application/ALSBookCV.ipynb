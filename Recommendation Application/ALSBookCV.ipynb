{
  "cells": [
    {
      "cell_type": "code",
      "execution_count": null,
      "metadata": {
        "colab": {
          "base_uri": "https://localhost:8080/"
        },
        "id": "kdmL38srawIW",
        "outputId": "9d00bc4f-b8a2-4c93-ea33-fde07fdb82c3"
      },
      "outputs": [],
      "source": [
        "from google.colab import drive\n",
        "drive.mount(\"/gdrive\")\n",
        "%cd \"gdrive\""
      ]
    },
    {
      "cell_type": "code",
      "execution_count": null,
      "metadata": {
        "colab": {
          "base_uri": "https://localhost:8080/"
        },
        "id": "70SZC-wua2Io",
        "outputId": "96e4d727-c4ef-45d0-c96c-c85b332eff0f"
      },
      "outputs": [],
      "source": [
        "import os\n",
        "os.chdir(\"/gdrive/MyDrive/big_data/RecommendationApplication\")\n",
        "!ls"
      ]
    },
    {
      "cell_type": "code",
      "execution_count": 3,
      "metadata": {
        "colab": {
          "base_uri": "https://localhost:8080/"
        },
        "id": "Jw_pmn97a-oF",
        "outputId": "de797930-e08f-4887-fa7f-125093a40efc"
      },
      "outputs": [
        {
          "name": "stdout",
          "output_type": "stream",
          "text": [
            "\u001b[K     |████████████████████████████████| 281.3 MB 8.1 kB/s \n",
            "\u001b[K     |████████████████████████████████| 198 kB 45.9 MB/s \n",
            "\u001b[?25h  Building wheel for pyspark (setup.py) ... \u001b[?25l\u001b[?25hdone\n"
          ]
        }
      ],
      "source": [
        "pip install -q pyspark"
      ]
    },
    {
      "cell_type": "code",
      "execution_count": 4,
      "metadata": {
        "id": "gNzwkg-8bAL-"
      },
      "outputs": [],
      "source": [
        "from pyspark.sql import SparkSession"
      ]
    },
    {
      "cell_type": "code",
      "execution_count": 5,
      "metadata": {
        "id": "KUrSLMhPbLrv"
      },
      "outputs": [],
      "source": [
        "sparkSession = SparkSession.builder.appName(\"ALS Book Recommendation System\").getOrCreate()"
      ]
    },
    {
      "cell_type": "code",
      "execution_count": 8,
      "metadata": {
        "id": "wT5Kdw8qbMPf"
      },
      "outputs": [],
      "source": [
        "bookDS = sparkSession.read.csv(path=\"/gdrive/MyDrive/big_data/RecommendationApplication/books.csv\", header=True, inferSchema=True)"
      ]
    },
    {
      "cell_type": "code",
      "execution_count": 9,
      "metadata": {
        "id": "VkDCTYxibP1z"
      },
      "outputs": [],
      "source": [
        "ratingDS = sparkSession.read.csv(path=\"/gdrive/MyDrive/big_data/RecommendationApplication/ratings.csv\", header=True, inferSchema=True)"
      ]
    },
    {
      "cell_type": "markdown",
      "metadata": {
        "id": "PklVzYKyceR3"
      },
      "source": [
        "# 1.Data Preprocessing"
      ]
    },
    {
      "cell_type": "code",
      "execution_count": 10,
      "metadata": {
        "id": "o8FQVeOgbSE0"
      },
      "outputs": [],
      "source": [
        "(train_data, test_data) = ratingDS.randomSplit([0.8, 0.2], seed=42)"
      ]
    },
    {
      "cell_type": "markdown",
      "metadata": {
        "id": "CyBvCfqFboJQ"
      },
      "source": [
        "# 2.CrossValidator\n"
      ]
    },
    {
      "cell_type": "code",
      "execution_count": 14,
      "metadata": {
        "id": "RIKromwHbaA4"
      },
      "outputs": [],
      "source": [
        "from pyspark.ml.recommendation import ALS\n",
        "from pyspark.ml.evaluation import RegressionEvaluator\n",
        "from pyspark.ml.tuning import ParamGridBuilder, CrossValidator"
      ]
    },
    {
      "cell_type": "code",
      "execution_count": 15,
      "metadata": {
        "id": "EAcohGqybfhO"
      },
      "outputs": [],
      "source": [
        "als = ALS(userCol=\"user_id\", itemCol=\"book_id\", ratingCol=\"rating\", coldStartStrategy=\"drop\", nonnegative=True, implicitPrefs=False)"
      ]
    },
    {
      "cell_type": "code",
      "execution_count": 16,
      "metadata": {
        "id": "ChshRA1e5UD7"
      },
      "outputs": [],
      "source": [
        "# Add hyperparameters and their respective values to param_grid\n",
        "param_grid = ParamGridBuilder() \\\n",
        "            .addGrid(als.rank, [1, 10]) \\\n",
        "            .addGrid(als.regParam, [.01, .1]) \\\n",
        "            .build()"
      ]
    },
    {
      "cell_type": "code",
      "execution_count": 17,
      "metadata": {
        "colab": {
          "base_uri": "https://localhost:8080/"
        },
        "id": "ye5Xf3IH5jzq",
        "outputId": "f2d39092-4969-4b19-b8bb-2784e3132afc"
      },
      "outputs": [
        {
          "name": "stdout",
          "output_type": "stream",
          "text": [
            "Num models to be tested:  4\n"
          ]
        }
      ],
      "source": [
        "# Define evaluator as RMSE and print length of evaluator\n",
        "evaluator = RegressionEvaluator(\n",
        "           labelCol=\"rating\", \n",
        "           predictionCol=\"prediction\",\n",
        "           metricName=\"rmse\") \n",
        "print (\"Num models to be tested: \", len(param_grid))"
      ]
    },
    {
      "cell_type": "code",
      "execution_count": 18,
      "metadata": {
        "id": "e0JUfKI15cd6"
      },
      "outputs": [],
      "source": [
        "# Build cross validation using CrossValidator\n",
        "cv = CrossValidator(estimator=als, estimatorParamMaps=param_grid, evaluator=evaluator, numFolds=3)"
      ]
    },
    {
      "cell_type": "code",
      "execution_count": 25,
      "metadata": {
        "id": "Wl1sEoZw6sez"
      },
      "outputs": [],
      "source": [
        "#Fit cross validator to the 'train' dataset\n",
        "cv_model = cv.fit(train_data)\n",
        "#Extract best model from the cv model above\n",
        "best_model = cv_model.bestModel\n"
      ]
    },
    {
      "cell_type": "code",
      "execution_count": 26,
      "metadata": {
        "colab": {
          "base_uri": "https://localhost:8080/"
        },
        "id": "srZtfnY37iRK",
        "outputId": "fa3871b0-becc-4d8e-f7c8-ec029511b6b8"
      },
      "outputs": [
        {
          "name": "stdout",
          "output_type": "stream",
          "text": [
            "**Best Model**\n",
            "  Rank: 1\n",
            "  MaxIter: 10\n",
            "  RegParam: 0.01\n"
          ]
        }
      ],
      "source": [
        "print(\"**Best Model**\")\n",
        "# Print \"Rank\"\n",
        "print(\"  Rank:\", best_model._java_obj.parent().getRank())\n",
        "# Print \"MaxIter\"\n",
        "print(\"  MaxIter:\", best_model._java_obj.parent().getMaxIter())\n",
        "# Print \"RegParam\"\n",
        "print(\"  RegParam:\", best_model._java_obj.parent().getRegParam())"
      ]
    },
    {
      "cell_type": "markdown",
      "metadata": {
        "id": "cl064LEPcOYQ"
      },
      "source": [
        "# 3.Predictions"
      ]
    },
    {
      "cell_type": "code",
      "execution_count": 27,
      "metadata": {
        "colab": {
          "base_uri": "https://localhost:8080/"
        },
        "id": "SdNl0OqP61ii",
        "outputId": "f5d6c5eb-d91b-4782-a7d9-e8b7a34177d5"
      },
      "outputs": [
        {
          "name": "stdout",
          "output_type": "stream",
          "text": [
            "0.8497654221443084\n"
          ]
        }
      ],
      "source": [
        "# View the predictions\n",
        "predictions = best_model.transform(test_data)\n",
        "rmse = evaluator.evaluate(predictions)\n",
        "print(rmse)"
      ]
    },
    {
      "cell_type": "markdown",
      "metadata": {
        "id": "hvpEXgCzQ_kj"
      },
      "source": [
        "# 4.Recommendations"
      ]
    },
    {
      "cell_type": "code",
      "execution_count": 28,
      "metadata": {
        "colab": {
          "base_uri": "https://localhost:8080/"
        },
        "id": "BEcXqJ25cFEy",
        "outputId": "83ca58cb-d666-4ddc-d56a-9a2d316cc5af"
      },
      "outputs": [
        {
          "name": "stderr",
          "output_type": "stream",
          "text": [
            "/usr/local/lib/python3.7/dist-packages/pyspark/sql/context.py:127: FutureWarning: Deprecated in 3.0.0. Use SparkSession.builder.getOrCreate() instead.\n",
            "  FutureWarning\n"
          ]
        },
        {
          "name": "stdout",
          "output_type": "stream",
          "text": [
            "+-------+--------------------+\n",
            "|user_id|     recommendations|\n",
            "+-------+--------------------+\n",
            "|      1|[{5207, 4.332561}...|\n",
            "|      3|[{5207, 1.1885868...|\n",
            "|      5|[{5207, 5.37021},...|\n",
            "|      6|[{5207, 5.489295}...|\n",
            "|      9|[{5207, 4.3143396...|\n",
            "|     12|[{5207, 4.7692404...|\n",
            "|     13|[{5207, 5.168634}...|\n",
            "|     15|[{5207, 4.3484435...|\n",
            "|     16|[{5207, 4.2852426...|\n",
            "|     17|[{5207, 5.4291396...|\n",
            "|     19|[{5207, 3.9199004...|\n",
            "|     20|[{5207, 5.64612},...|\n",
            "|     22|[{5207, 4.237532}...|\n",
            "|     26|[{5207, 4.3521338...|\n",
            "|     27|[{5207, 4.888169}...|\n",
            "|     28|[{5207, 4.0965953...|\n",
            "|     31|[{5207, 4.4243546...|\n",
            "|     34|[{5207, 3.6871262...|\n",
            "|     35|[{5207, 3.8013105...|\n",
            "|     37|[{5207, 5.204016}...|\n",
            "+-------+--------------------+\n",
            "only showing top 20 rows\n",
            "\n"
          ]
        }
      ],
      "source": [
        "bookrecommend = best_model.recommendForAllUsers(numItems=5)\n",
        "bookrecommend.show()"
      ]
    },
    {
      "cell_type": "code",
      "execution_count": 29,
      "metadata": {
        "colab": {
          "base_uri": "https://localhost:8080/"
        },
        "id": "rdZefp3DfpTN",
        "outputId": "766b545e-a147-4e9c-d4a9-541707670af9"
      },
      "outputs": [
        {
          "name": "stderr",
          "output_type": "stream",
          "text": [
            "/usr/local/lib/python3.7/dist-packages/pyspark/sql/context.py:127: FutureWarning: Deprecated in 3.0.0. Use SparkSession.builder.getOrCreate() instead.\n",
            "  FutureWarning\n"
          ]
        },
        {
          "name": "stdout",
          "output_type": "stream",
          "text": [
            "+-------+---------------------------------------------------------------------------------------------------+\n",
            "|book_id|recommendations                                                                                    |\n",
            "+-------+---------------------------------------------------------------------------------------------------+\n",
            "|1      |[{43252, 8.554714}, {21791, 7.818618}, {23353, 7.562179}, {52487, 6.9868517}, {38723, 6.9400334}]  |\n",
            "|3      |[{43252, 6.018967}, {21791, 5.501061}, {23353, 5.320635}, {52487, 4.915843}, {38723, 4.882902}]    |\n",
            "|5      |[{43252, 7.7380486}, {21791, 7.0722227}, {23353, 6.840265}, {52487, 6.31986}, {38723, 6.277511}]   |\n",
            "|6      |[{43252, 7.8131094}, {21791, 7.1408253}, {23353, 6.906617}, {52487, 6.3811646}, {38723, 6.3384047}]|\n",
            "|9      |[{43252, 6.7856402}, {21791, 6.201765}, {23353, 5.998357}, {52487, 5.542004}, {38723, 5.5048676}]  |\n",
            "+-------+---------------------------------------------------------------------------------------------------+\n",
            "only showing top 5 rows\n",
            "\n"
          ]
        }
      ],
      "source": [
        "userrecommend = best_model.recommendForAllItems(numUsers=5)\n",
        "userrecommend.show(5, truncate=False)"
      ]
    },
    {
      "cell_type": "code",
      "execution_count": 30,
      "metadata": {
        "colab": {
          "base_uri": "https://localhost:8080/"
        },
        "id": "R-ykyW9Qib9W",
        "outputId": "5d551ef4-dbee-4f27-8ff9-04358858b498"
      },
      "outputs": [
        {
          "data": {
            "text/plain": [
              "Row(book_id=1, recommendations=[Row(user_id=43252, rating=8.55471420288086), Row(user_id=21791, rating=7.818617820739746), Row(user_id=23353, rating=7.562179088592529), Row(user_id=52487, rating=6.986851692199707), Row(user_id=38723, rating=6.940033435821533)])"
            ]
          },
          "execution_count": 30,
          "metadata": {},
          "output_type": "execute_result"
        }
      ],
      "source": [
        "userrecommend.first()"
      ]
    }
  ],
  "metadata": {
    "colab": {
      "name": "ALSBookCV.ipynb ",
      "provenance": [],
      "toc_visible": true
    },
    "kernelspec": {
      "display_name": "Python 3",
      "name": "python3"
    },
    "language_info": {
      "name": "python"
    }
  },
  "nbformat": 4,
  "nbformat_minor": 0
}
